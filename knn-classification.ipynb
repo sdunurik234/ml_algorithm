{
 "cells": [
  {
   "cell_type": "code",
   "execution_count": 32,
   "id": "3c830924",
   "metadata": {},
   "outputs": [],
   "source": [
    "import numpy as np\n",
    "\n",
    "class KNN:\n",
    "    def __init__(self, k: int = 3) -> None:\n",
    "        self.k = k\n",
    "\n",
    "    def fit(self, X, y):\n",
    "        self.X = X\n",
    "        self.y = y\n",
    "               \n",
    "    def predict(self, X):\n",
    "        predictions = []\n",
    "        for x in X:\n",
    "            d = [np.linalg.norm(x - i) for i in self.X] # euclidean distance formula\n",
    "            k_index = np.argsort(d)[:self.k]\n",
    "            k_label = self.y[k_index]\n",
    "            mc = np.bincount(k_label).argmax()\n",
    "            predictions.append(mc)\n",
    "        return np.array(predictions)       "
   ]
  },
  {
   "cell_type": "code",
   "execution_count": 33,
   "id": "5e359b17",
   "metadata": {},
   "outputs": [
    {
     "data": {
      "text/plain": [
       "array([1], dtype=int64)"
      ]
     },
     "execution_count": 33,
     "metadata": {},
     "output_type": "execute_result"
    }
   ],
   "source": [
    "X = np.array([[1, 2], [2, 3], [3, 4], [4, 5]])\n",
    "y = np.array([0, 0, 1, 1])\n",
    "\n",
    "knn = KNN()\n",
    "knn.fit(X, y)\n",
    "knn.predict([[3, 4]])"
   ]
  },
  {
   "cell_type": "code",
   "execution_count": 28,
   "id": "f7060755",
   "metadata": {},
   "outputs": [
    {
     "name": "stdout",
     "output_type": "stream",
     "text": [
      "[7.0710678118654755, 5.656854249492381, 4.242640687119285, 2.8284271247461903]\n",
      "[1] [3 2 1] [1 1 0] 1\n"
     ]
    }
   ],
   "source": [
    "k = 3\n",
    "X = np.array([[1, 2], [2, 3], [3, 4], [4, 5]])\n",
    "x = np.array([[6, 7]])\n",
    "predictions = []\n",
    "for i in x:\n",
    "    d = [np.linalg.norm(x - j) for j in X]\n",
    "    k_index = np.argsort(d)[:k]\n",
    "    k_label = y[k_index]\n",
    "    mc = np.bincount(k_label).argmax()\n",
    "    predictions.append(mc)\n",
    "    print(d)\n",
    "print(np.array(predictions), k_index, k_label, mc)"
   ]
  },
  {
   "cell_type": "code",
   "execution_count": 31,
   "id": "fc0c0fe1",
   "metadata": {},
   "outputs": [
    {
     "data": {
      "text/plain": [
       "<matplotlib.collections.PathCollection at 0x22063d6b510>"
      ]
     },
     "execution_count": 31,
     "metadata": {},
     "output_type": "execute_result"
    },
    {
     "data": {
      "image/png": "[encoded data removed]",
      "text/plain": [
       "<Figure size 640x480 with 1 Axes>"
      ]
     },
     "metadata": {},
     "output_type": "display_data"
    }
   ],
   "source": [
    "import matplotlib.pyplot as plt\n",
    "plt.scatter([6], [7], c=\"y\")\n",
    "plt.scatter([3, 4],[4, 5],c=\"b\")\n",
    "plt.scatter([1, 2],[2, 3],c=\"r\")"
   ]
  },
  {
   "cell_type": "code",
   "execution_count": null,
   "id": "0175ba8d",
   "metadata": {},
   "outputs": [],
   "source": []
  }
 ],
 "metadata": {
  "kernelspec": {
   "display_name": "Python 3 (ipykernel)",
   "language": "python",
   "name": "python3"
  },
  "language_info": {
   "codemirror_mode": {
    "name": "ipython",
    "version": 3
   },
   "file_extension": ".py",
   "mimetype": "text/x-python",
   "name": "python",
   "nbconvert_exporter": "python",
   "pygments_lexer": "ipython3",
   "version": "3.11.5"
  }
 },
 "nbformat": 4,
 "nbformat_minor": 5
}
