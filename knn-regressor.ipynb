{
 "cells": [
  {
   "cell_type": "code",
   "execution_count": 34,
   "id": "768453b4",
   "metadata": {},
   "outputs": [],
   "source": [
    "import numpy as np\n",
    "\n",
    "class KNNRegressor:\n",
    "    def __init__(self, k: int = 3) -> None:\n",
    "        self.k = k\n",
    "        \n",
    "    def fit(self, X, y):\n",
    "        self.X = X\n",
    "        self.y = y\n",
    "    \n",
    "    def predict(self, X_test):\n",
    "        predictions = []\n",
    "        for x in X_test:\n",
    "            d = np.linalg.norm(self.X - x, axis=1)  \n",
    "            index = np.argsort(d)[:self.k]  \n",
    "            neighbors_y = self.y[index]  \n",
    "            prediction = np.mean(neighbors_y)  \n",
    "            predictions.append(prediction)\n",
    "        return np.array(predictions)"
   ]
  },
  {
   "cell_type": "code",
   "execution_count": 35,
   "id": "cf77fa44",
   "metadata": {},
   "outputs": [
    {
     "data": {
      "text/plain": [
       "array([12.])"
      ]
     },
     "execution_count": 35,
     "metadata": {},
     "output_type": "execute_result"
    }
   ],
   "source": [
    "X = np.array([[1],[2],[3],[4],[6],[8],[10]])\n",
    "y = np.array([2,4,6,8,12,16,20])\n",
    "knn_reg = KNNRegressor()\n",
    "knn_reg.fit(X, y)\n",
    "knn_reg.predict([[6.5]])"
   ]
  }
 ],
 "metadata": {
  "kernelspec": {
   "display_name": "Python 3 (ipykernel)",
   "language": "python",
   "name": "python3"
  },
  "language_info": {
   "codemirror_mode": {
    "name": "ipython",
    "version": 3
   },
   "file_extension": ".py",
   "mimetype": "text/x-python",
   "name": "python",
   "nbconvert_exporter": "python",
   "pygments_lexer": "ipython3",
   "version": "3.11.5"
  }
 },
 "nbformat": 4,
 "nbformat_minor": 5
}
