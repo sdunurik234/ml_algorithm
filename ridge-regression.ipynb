{
 "cells": [
  {
   "cell_type": "code",
   "execution_count": 1,
   "id": "7cdc04c8",
   "metadata": {},
   "outputs": [],
   "source": [
    "import numpy as np\n",
    "\n",
    "class LassoRegression:\n",
    "    def __init__(self, alpha, learning_rate: int = 0.001, n_iter: int = 2000) -> None:\n",
    "        self.lr = learning_rate\n",
    "        self.n_iter = n_iter\n",
    "        self.w = None\n",
    "        self.w = None\n",
    "        self.alpha = alpha\n",
    "\n",
    "    def fit(self, X, y):\n",
    "        num_s, num_f = X.shape\n",
    "        self.w = np.random.rand(num_f)\n",
    "        self.b = 0\n",
    "\n",
    "        for i in range(self.n_iter):\n",
    "            y_pred = np.dot(X, self.w) + self.b\n",
    "\n",
    "            dw = (1 / num_s) * np.dot(X.T, y_pred - y) + 2 * self.alpha * np.sign(self.w)\n",
    "            db = (1 / num_s) * np.sum(y_pred - y)\n",
    "\n",
    "            self.w = self.w - self.lr * dw\n",
    "            self.b = self.b - self.lr * db\n",
    "\n",
    "        return self\n",
    "\n",
    "    def predict(self, X):\n",
    "        return np.dot(X, self.w) + self.b"
   ]
  },
  {
   "cell_type": "code",
   "execution_count": 2,
   "id": "ee4be924",
   "metadata": {},
   "outputs": [
    {
     "data": {
      "text/plain": [
       "array([13.94958408])"
      ]
     },
     "execution_count": 2,
     "metadata": {},
     "output_type": "execute_result"
    }
   ],
   "source": [
    "X = np.array([[1],[2],[3],[4],[6],[8],[10]])\n",
    "y = np.array([2,4,6,8,12,16,20])\n",
    "lasso = LassoRegression(alpha=0.1)\n",
    "lasso.fit(X, y)\n",
    "lasso.predict([[7]])"
   ]
  },
  {
   "cell_type": "code",
   "execution_count": null,
   "id": "52ef381f",
   "metadata": {},
   "outputs": [],
   "source": []
  }
 ],
 "metadata": {
  "kernelspec": {
   "display_name": "Python 3 (ipykernel)",
   "language": "python",
   "name": "python3"
  },
  "language_info": {
   "codemirror_mode": {
    "name": "ipython",
    "version": 3
   },
   "file_extension": ".py",
   "mimetype": "text/x-python",
   "name": "python",
   "nbconvert_exporter": "python",
   "pygments_lexer": "ipython3",
   "version": "3.11.5"
  }
 },
 "nbformat": 4,
 "nbformat_minor": 5
}
