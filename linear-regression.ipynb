{
 "cells": [
  {
   "cell_type": "code",
   "execution_count": 103,
   "id": "efc2d232",
   "metadata": {},
   "outputs": [],
   "source": [
    "import numpy as np\n",
    "\n",
    "class MSE():\n",
    "    def __call__(self, y_true, X, w, f):\n",
    "        return (1 / f) * np.sum((y_true - np.dot(X, w))**2)\n",
    "    \n",
    "    def gradient(self, y_true, X, w):\n",
    "        return (2 / num) * np.dot((y_true - np.dot(X, w)), (-X))\n",
    "\n",
    "class LinearRegressionMSE:\n",
    "    def __init__(self, learning_rate: int = 0.001, n_iter: int = 2000) -> None:\n",
    "        self.learning_rate = learning_rate\n",
    "        self.n_iter = n_iter\n",
    "        self.w = None\n",
    "        self.b = None\n",
    "        \n",
    "    def fit(self, X, y):\n",
    "        num_s, num_f = X.shape\n",
    "        self.w = np.random.rand(num_f)\n",
    "        self.b = 0\n",
    "\n",
    "        for i in range(self.n_iter):\n",
    "            y_pred = np.dot(X, self.w)\n",
    "\n",
    "            dw = (2 / num_s) * np.dot((y - y_pred), (-X))\n",
    "            db = (1 / num_s) * np.sum((y - y_pred) ** 2)\n",
    "\n",
    "            self.w = self.w - self.learning_rate * dw\n",
    "            self.b = self.b - self.learning_rate * db\n",
    "\n",
    "        return self\n",
    "\n",
    "    def predict(self, X):\n",
    "        return np.dot(X, self.w) + self.b"
   ]
  },
  {
   "cell_type": "code",
   "execution_count": 104,
   "id": "e386f119",
   "metadata": {},
   "outputs": [],
   "source": [
    "class MAE():\n",
    "    def __call__(self, y_true, X, w, b):\n",
    "        return (1 / num_s) * np.sum((np.dot(X, self.w) + self.b) - y)\n",
    "            \n",
    "    def gradient(self, y_true, X, w, b):\n",
    "        return (1 / num_s) * np.dot(X.T, (np.dot(X, self.w) + self.b) - y)\n",
    "\n",
    "class LinearRegressionMAE:\n",
    "    def __init__(self, learning_rate: int = 0.001, n_iter: int = 2000) -> None:\n",
    "        self.learning_rate = learning_rate\n",
    "        self.n_iter = n_iter\n",
    "        self.w = None\n",
    "        self.b = None\n",
    "        \n",
    "    def fit(self, X, y):\n",
    "        num_s, num_f = X.shape\n",
    "        self.w = np.random.rand(num_f)\n",
    "        self.b = 0\n",
    "\n",
    "        for i in range(self.n_iter):\n",
    "            y_pred = np.dot(X, self.w) + self.b\n",
    "\n",
    "            dw = (1 / num_s) * np.dot(X.T, y_pred - y)\n",
    "            db = (1 / num_s) * np.sum(y_pred - y)\n",
    "\n",
    "            self.w = self.w - self.learning_rate * dw\n",
    "            self.b = self.b - self.learning_rate * db\n",
    "\n",
    "        return self\n",
    "\n",
    "    def predict(self, X):\n",
    "        return np.dot(X, self.w) + self.b"
   ]
  },
  {
   "cell_type": "code",
   "execution_count": 109,
   "id": "b2d108a9",
   "metadata": {},
   "outputs": [
    {
     "name": "stdout",
     "output_type": "stream",
     "text": [
      "LinearRegression MSE: 39.68, Weight: 2.0, Intercept: -0.32\n",
      "LinearRegression MAE: 39.67, Weight: 1.98, Intercept: 0.17\n"
     ]
    }
   ],
   "source": [
    "X = np.array([[1],[2],[3],[4],[6],[8],[10]])\n",
    "y = np.array([2,4,6,8,12,16,20])\n",
    "\n",
    "linearmse = LinearRegressionMSE()\n",
    "linearmae = LinearRegressionMAE()\n",
    "\n",
    "linearmae.fit(X, y)\n",
    "linearmse.fit(X, y)\n",
    "\n",
    "print(f\"LinearRegression MSE: {round(linearmse.predict([20]), 2)}, Weight: {round(linearmse.w[0], 2)}, Intercept: {round(linearmse.b, 2)}\")\n",
    "print(f\"LinearRegression MAE: {round(linearmae.predict([20]), 2)}, Weight: {round(linearmae.w[0], 2)}, Intercept: {round(linearmae.b, 2)}\")"
   ]
  },
  {
   "cell_type": "code",
   "execution_count": null,
   "id": "f39fb875",
   "metadata": {},
   "outputs": [],
   "source": []
  },
  {
   "cell_type": "code",
   "execution_count": null,
   "id": "dcd618d4",
   "metadata": {},
   "outputs": [],
   "source": []
  },
  {
   "cell_type": "code",
   "execution_count": null,
   "id": "f77d2497",
   "metadata": {},
   "outputs": [],
   "source": []
  }
 ],
 "metadata": {
  "kernelspec": {
   "display_name": "Python 3 (ipykernel)",
   "language": "python",
   "name": "python3"
  },
  "language_info": {
   "codemirror_mode": {
    "name": "ipython",
    "version": 3
   },
   "file_extension": ".py",
   "mimetype": "text/x-python",
   "name": "python",
   "nbconvert_exporter": "python",
   "pygments_lexer": "ipython3",
   "version": "3.11.5"
  }
 },
 "nbformat": 4,
 "nbformat_minor": 5
}
